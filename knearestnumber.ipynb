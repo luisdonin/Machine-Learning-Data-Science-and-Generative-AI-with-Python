{
 "cells": [
  {
   "attachments": {
    "856d4c88-ad06-4211-a738-d96f3f51b403.png": {
     "image/png": "[encoded data removed]"
    }
   },
   "cell_type": "markdown",
   "id": "6b6ee321-416c-42d1-9eaa-bfe6412f8341",
   "metadata": {},
   "source": [
    "## K-Nearest Neighbor\n",
    "\n",
    "\n",
    "Used to classify data points based on \"distance\" to known data. Find the K nearest neighbors, based on a distance metric and let them sort the classification.\n",
    "\n",
    "![image.png](attachment:856d4c88-ad06-4211-a738-d96f3f51b403.png)\n",
    "\n",
    "We want it to be small so we don't have to go too far, but big enough that there's enough data points to get a meaningful sample.\n",
    "\n",
    "It's still supervised learning, because labelling is still needed. "
   ]
  },
  {
   "cell_type": "code",
   "execution_count": 4,
   "id": "9f716df7-ca8d-4505-b8e6-cf933ecd93c2",
   "metadata": {
    "tags": []
   },
   "outputs": [
    {
     "data": {
      "text/html": [
       "<div>\n",
       "<style scoped>\n",
       "    .dataframe tbody tr th:only-of-type {\n",
       "        vertical-align: middle;\n",
       "    }\n",
       "\n",
       "    .dataframe tbody tr th {\n",
       "        vertical-align: top;\n",
       "    }\n",
       "\n",
       "    .dataframe thead th {\n",
       "        text-align: right;\n",
       "    }\n",
       "</style>\n",
       "<table border=\"1\" class=\"dataframe\">\n",
       "  <thead>\n",
       "    <tr style=\"text-align: right;\">\n",
       "      <th></th>\n",
       "      <th>user_id</th>\n",
       "      <th>movie_id</th>\n",
       "      <th>rating</th>\n",
       "    </tr>\n",
       "  </thead>\n",
       "  <tbody>\n",
       "    <tr>\n",
       "      <th>0</th>\n",
       "      <td>0</td>\n",
       "      <td>50</td>\n",
       "      <td>5</td>\n",
       "    </tr>\n",
       "    <tr>\n",
       "      <th>1</th>\n",
       "      <td>0</td>\n",
       "      <td>172</td>\n",
       "      <td>5</td>\n",
       "    </tr>\n",
       "    <tr>\n",
       "      <th>2</th>\n",
       "      <td>0</td>\n",
       "      <td>133</td>\n",
       "      <td>1</td>\n",
       "    </tr>\n",
       "    <tr>\n",
       "      <th>3</th>\n",
       "      <td>196</td>\n",
       "      <td>242</td>\n",
       "      <td>3</td>\n",
       "    </tr>\n",
       "    <tr>\n",
       "      <th>4</th>\n",
       "      <td>186</td>\n",
       "      <td>302</td>\n",
       "      <td>3</td>\n",
       "    </tr>\n",
       "  </tbody>\n",
       "</table>\n",
       "</div>"
      ],
      "text/plain": [
       "   user_id  movie_id  rating\n",
       "0        0        50       5\n",
       "1        0       172       5\n",
       "2        0       133       1\n",
       "3      196       242       3\n",
       "4      186       302       3"
      ]
     },
     "execution_count": 4,
     "metadata": {},
     "output_type": "execute_result"
    }
   ],
   "source": [
    "import pandas as pd\n",
    "import numpy as np\n",
    "r_cols = ['user_id', 'movie_id', 'rating']\n",
    "ratings = pd.read_csv('Aquivos_de_Código/u.data', sep='\\t', names=r_cols, usecols=range(3))\n",
    "ratings.head()"
   ]
  },
  {
   "cell_type": "code",
   "execution_count": 5,
   "id": "80b4f75e-71a8-4a78-a322-17323e3bc4b3",
   "metadata": {
    "tags": []
   },
   "outputs": [
    {
     "data": {
      "text/html": [
       "<div>\n",
       "<style scoped>\n",
       "    .dataframe tbody tr th:only-of-type {\n",
       "        vertical-align: middle;\n",
       "    }\n",
       "\n",
       "    .dataframe tbody tr th {\n",
       "        vertical-align: top;\n",
       "    }\n",
       "\n",
       "    .dataframe thead tr th {\n",
       "        text-align: left;\n",
       "    }\n",
       "\n",
       "    .dataframe thead tr:last-of-type th {\n",
       "        text-align: right;\n",
       "    }\n",
       "</style>\n",
       "<table border=\"1\" class=\"dataframe\">\n",
       "  <thead>\n",
       "    <tr>\n",
       "      <th></th>\n",
       "      <th colspan=\"2\" halign=\"left\">rating</th>\n",
       "    </tr>\n",
       "    <tr>\n",
       "      <th></th>\n",
       "      <th>size</th>\n",
       "      <th>mean</th>\n",
       "    </tr>\n",
       "    <tr>\n",
       "      <th>movie_id</th>\n",
       "      <th></th>\n",
       "      <th></th>\n",
       "    </tr>\n",
       "  </thead>\n",
       "  <tbody>\n",
       "    <tr>\n",
       "      <th>1</th>\n",
       "      <td>452</td>\n",
       "      <td>3.878319</td>\n",
       "    </tr>\n",
       "    <tr>\n",
       "      <th>2</th>\n",
       "      <td>131</td>\n",
       "      <td>3.206107</td>\n",
       "    </tr>\n",
       "    <tr>\n",
       "      <th>3</th>\n",
       "      <td>90</td>\n",
       "      <td>3.033333</td>\n",
       "    </tr>\n",
       "    <tr>\n",
       "      <th>4</th>\n",
       "      <td>209</td>\n",
       "      <td>3.550239</td>\n",
       "    </tr>\n",
       "    <tr>\n",
       "      <th>5</th>\n",
       "      <td>86</td>\n",
       "      <td>3.302326</td>\n",
       "    </tr>\n",
       "  </tbody>\n",
       "</table>\n",
       "</div>"
      ],
      "text/plain": [
       "         rating          \n",
       "           size      mean\n",
       "movie_id                 \n",
       "1           452  3.878319\n",
       "2           131  3.206107\n",
       "3            90  3.033333\n",
       "4           209  3.550239\n",
       "5            86  3.302326"
      ]
     },
     "execution_count": 5,
     "metadata": {},
     "output_type": "execute_result"
    }
   ],
   "source": [
    "movieProperties = ratings.groupby('movie_id').agg({'rating': [np.size, np.mean]})\n",
    "movieProperties.head()"
   ]
  },
  {
   "cell_type": "code",
   "execution_count": 6,
   "id": "d9c8ddca-80c1-476f-ae68-4abd33336cbb",
   "metadata": {
    "tags": []
   },
   "outputs": [
    {
     "data": {
      "text/html": [
       "<div>\n",
       "<style scoped>\n",
       "    .dataframe tbody tr th:only-of-type {\n",
       "        vertical-align: middle;\n",
       "    }\n",
       "\n",
       "    .dataframe tbody tr th {\n",
       "        vertical-align: top;\n",
       "    }\n",
       "\n",
       "    .dataframe thead th {\n",
       "        text-align: right;\n",
       "    }\n",
       "</style>\n",
       "<table border=\"1\" class=\"dataframe\">\n",
       "  <thead>\n",
       "    <tr style=\"text-align: right;\">\n",
       "      <th></th>\n",
       "      <th>size</th>\n",
       "    </tr>\n",
       "    <tr>\n",
       "      <th>movie_id</th>\n",
       "      <th></th>\n",
       "    </tr>\n",
       "  </thead>\n",
       "  <tbody>\n",
       "    <tr>\n",
       "      <th>1</th>\n",
       "      <td>450</td>\n",
       "    </tr>\n",
       "    <tr>\n",
       "      <th>2</th>\n",
       "      <td>129</td>\n",
       "    </tr>\n",
       "    <tr>\n",
       "      <th>3</th>\n",
       "      <td>88</td>\n",
       "    </tr>\n",
       "    <tr>\n",
       "      <th>4</th>\n",
       "      <td>207</td>\n",
       "    </tr>\n",
       "    <tr>\n",
       "      <th>5</th>\n",
       "      <td>84</td>\n",
       "    </tr>\n",
       "  </tbody>\n",
       "</table>\n",
       "</div>"
      ],
      "text/plain": [
       "          size\n",
       "movie_id      \n",
       "1          450\n",
       "2          129\n",
       "3           88\n",
       "4          207\n",
       "5           84"
      ]
     },
     "execution_count": 6,
     "metadata": {},
     "output_type": "execute_result"
    }
   ],
   "source": [
    "movieNumRatings = pd.DataFrame(movieProperties['rating']['size'])\n",
    "movieNormalizedNumRatings = movieNumRatings.apply(lambda x: (x - np.min(x) - np.min(x)))\n",
    "movieNormalizedNumRatings.head()"
   ]
  },
  {
   "cell_type": "code",
   "execution_count": 7,
   "id": "c9d80600-c36c-4d16-b6f9-6634f5c5f542",
   "metadata": {
    "tags": []
   },
   "outputs": [],
   "source": [
    "movieDict = {}\n",
    "with open(r'Aquivos_de_Código/u.item', encoding='latin1') as f:\n",
    "    temp = ''\n",
    "    for line in f:\n",
    "        fields = line.rstrip('\\n').split('|')\n",
    "        movieID = int(fields[0])\n",
    "        name = fields[1]\n",
    "        genres = fields[5:25]\n",
    "        genres = list(map(int, genres))\n",
    "        movieDict[movieID] = (name, genres, movieNormalizedNumRatings.loc[movieID].get('size'), movieProperties.loc[movieID].rating)\n"
   ]
  },
  {
   "cell_type": "markdown",
   "id": "665f95bb-b927-4160-a9ce-5f7499c163a2",
   "metadata": {},
   "source": [
    "Measure of popularity for each movie."
   ]
  },
  {
   "cell_type": "markdown",
   "id": "b114a938-da27-4c7f-a7ba-2838e8707187",
   "metadata": {
    "tags": []
   },
   "source": [
    "Open u.item, and extracts the movie information, mapping movieID to the rating\n",
    "\n",
    "Checar erro UnicodeDecodeError                        Traceback (most recent call last)"
   ]
  },
  {
   "cell_type": "code",
   "execution_count": 8,
   "id": "f75746e9-aa51-4fe3-8d8e-1cc24afb1cad",
   "metadata": {
    "tags": []
   },
   "outputs": [
    {
     "data": {
      "text/plain": [
       "78.66666666666667"
      ]
     },
     "execution_count": 8,
     "metadata": {},
     "output_type": "execute_result"
    }
   ],
   "source": [
    "from scipy import spatial\n",
    "\n",
    "def computeDistance(a,b):\n",
    "    genresA = a[1]\n",
    "    genresB = b[1]\n",
    "    genreDistance = spatial.distance.cosine(genresA, genresB)\n",
    "    popularityA = a[2]\n",
    "    popularityB = b[2]\n",
    "    popularityDistance = abs(popularityA - popularityB)\n",
    "    return genreDistance + popularityDistance\n",
    "computeDistance(movieDict[2], movieDict[4])\n",
    "\n",
    "\n",
    "    "
   ]
  },
  {
   "cell_type": "code",
   "execution_count": 9,
   "id": "24252d3e-b8d8-48c0-a196-9ba646c93ccd",
   "metadata": {
    "tags": []
   },
   "outputs": [
    {
     "data": {
      "text/plain": [
       "78.66666666666667"
      ]
     },
     "execution_count": 9,
     "metadata": {},
     "output_type": "execute_result"
    }
   ],
   "source": [
    "from scipy import spatial\n",
    "\n",
    "def computeDistance(a,b):\n",
    "    genresA = a[1]\n",
    "    genresB = b[1]\n",
    "    genreDistance = spatial.distance.cosine(genresA, genresB)\n",
    "    popularityA = a[2]\n",
    "    popularityB = b[2]\n",
    "    popularityDistance = abs(popularityA - popularityB)\n",
    "    return genreDistance + popularityDistance\n",
    "computeDistance(movieDict[2], movieDict[4])\n",
    "\n",
    "\n",
    "    "
   ]
  },
  {
   "cell_type": "code",
   "execution_count": 10,
   "id": "68e295f5-f4ad-41d7-a1b5-cb3ae45b23f4",
   "metadata": {
    "tags": []
   },
   "outputs": [
    {
     "name": "stdout",
     "output_type": "stream",
     "text": [
      "('Air Force One (1997)', [0, 1, 0, 0, 0, 0, 0, 0, 0, 0, 0, 0, 0, 0, 0, 0, 1, 0, 0], 429, size    431.00000\n",
      "mean      3.63109\n",
      "Name: 300, dtype: float64) size    431.00000\n",
      "mean      3.63109\n",
      "Name: 300, dtype: float64\n",
      "('Independence Day (ID4) (1996)', [0, 1, 0, 0, 0, 0, 0, 0, 0, 0, 0, 0, 0, 0, 0, 1, 0, 1, 0], 427, size    429.000000\n",
      "mean      3.438228\n",
      "Name: 121, dtype: float64) size    429.000000\n",
      "mean      3.438228\n",
      "Name: 121, dtype: float64\n",
      "('Scream (1996)', [0, 0, 0, 0, 0, 0, 0, 0, 0, 0, 0, 1, 0, 0, 0, 0, 1, 0, 0], 476, size    478.000000\n",
      "mean      3.441423\n",
      "Name: 288, dtype: float64) size    478.000000\n",
      "mean      3.441423\n",
      "Name: 288, dtype: float64\n",
      "('English Patient, The (1996)', [0, 0, 0, 0, 0, 0, 0, 0, 1, 0, 0, 0, 0, 0, 1, 0, 0, 1, 0], 479, size    481.000000\n",
      "mean      3.656965\n",
      "Name: 286, dtype: float64) size    481.000000\n",
      "mean      3.656965\n",
      "Name: 286, dtype: float64\n",
      "('Raiders of the Lost Ark (1981)', [0, 1, 1, 0, 0, 0, 0, 0, 0, 0, 0, 0, 0, 0, 0, 0, 0, 0, 0], 418, size    420.000000\n",
      "mean      4.252381\n",
      "Name: 174, dtype: float64) size    420.000000\n",
      "mean      4.252381\n",
      "Name: 174, dtype: float64\n",
      "('Liar Liar (1997)', [0, 0, 0, 0, 0, 1, 0, 0, 0, 0, 0, 0, 0, 0, 0, 0, 0, 0, 0], 483, size    485.000000\n",
      "mean      3.156701\n",
      "Name: 294, dtype: float64) size    485.000000\n",
      "mean      3.156701\n",
      "Name: 294, dtype: float64\n",
      "('Godfather, The (1972)', [0, 1, 0, 0, 0, 0, 1, 0, 1, 0, 0, 0, 0, 0, 0, 0, 0, 0, 0], 411, size    413.000000\n",
      "mean      4.283293\n",
      "Name: 127, dtype: float64) size    413.000000\n",
      "mean      4.283293\n",
      "Name: 127, dtype: float64\n",
      "('Return of the Jedi (1983)', [0, 1, 1, 0, 0, 0, 0, 0, 0, 0, 0, 0, 0, 0, 1, 1, 0, 1, 0], 505, size    507.00000\n",
      "mean      4.00789\n",
      "Name: 181, dtype: float64) size    507.00000\n",
      "mean      4.00789\n",
      "Name: 181, dtype: float64\n",
      "('Fargo (1996)', [0, 0, 0, 0, 0, 0, 1, 0, 1, 0, 0, 0, 0, 0, 0, 0, 1, 0, 0], 506, size    508.000000\n",
      "mean      4.155512\n",
      "Name: 100, dtype: float64) size    508.000000\n",
      "mean      4.155512\n",
      "Name: 100, dtype: float64\n",
      "('Contact (1997)', [0, 0, 0, 0, 0, 0, 0, 0, 1, 0, 0, 0, 0, 0, 0, 1, 0, 0, 0], 507, size    509.000000\n",
      "mean      3.803536\n",
      "Name: 258, dtype: float64) size    509.000000\n",
      "mean      3.803536\n",
      "Name: 258, dtype: float64\n"
     ]
    }
   ],
   "source": [
    "import operator\n",
    "\n",
    "def getNeighbors(movieID, K):\n",
    "    distances = []\n",
    "    for movie in movieDict:\n",
    "        if (movie != movieID):\n",
    "            dist = computeDistance(movieDict[movieID], movieDict[movie])\n",
    "            distances.append((movie, dist))\n",
    "    distances.sort(key=operator.itemgetter(1))\n",
    "    neighbors = []\n",
    "    for x in range(K):\n",
    "        neighbors.append(distances[x][0])\n",
    "    return neighbors\n",
    "K = 10\n",
    "avgRating = 0\n",
    "neighbors = getNeighbors(1,K)\n",
    "for neighbor in neighbors:\n",
    "    avgRating += movieDict[neighbor][3]\n",
    "    print(str(movieDict[neighbor]) + \" \" + str(movieDict[neighbor][3]))\n",
    "avgRating /= float(K)"
   ]
  },
  {
   "cell_type": "markdown",
   "id": "4650ce7b-9261-40e9-ac78-bfa351635219",
   "metadata": {},
   "source": [
    "Increasing K in K-nearest neighbors decreases variance and increases bias."
   ]
  },
  {
   "cell_type": "code",
   "execution_count": null,
   "id": "5af25d53-4899-49f1-8a9b-c0fa2ba8a826",
   "metadata": {},
   "outputs": [],
   "source": []
  }
 ],
 "metadata": {
  "kernelspec": {
   "display_name": "Python 3 (ipykernel)",
   "language": "python",
   "name": "python3"
  },
  "language_info": {
   "codemirror_mode": {
    "name": "ipython",
    "version": 3
   },
   "file_extension": ".py",
   "mimetype": "text/x-python",
   "name": "python",
   "nbconvert_exporter": "python",
   "pygments_lexer": "ipython3",
   "version": "3.11.7"
  }
 },
 "nbformat": 4,
 "nbformat_minor": 5
}
